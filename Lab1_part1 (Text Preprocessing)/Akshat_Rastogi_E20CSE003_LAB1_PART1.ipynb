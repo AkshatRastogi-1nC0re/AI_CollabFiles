{
  "nbformat": 4,
  "nbformat_minor": 0,
  "metadata": {
    "colab": {
      "name": "Akshat_Rastogi_E20CSE003_LAB1_PART1.ipynb",
      "provenance": []
    },
    "kernelspec": {
      "name": "python3",
      "display_name": "Python 3"
    },
    "language_info": {
      "name": "python"
    }
  },
  "cells": [
    {
      "cell_type": "markdown",
      "source": [
        "Akshat Rastogi - E20CSE003"
      ],
      "metadata": {
        "id": "L4WvQgUK6vPE"
      }
    },
    {
      "cell_type": "code",
      "execution_count": 1,
      "metadata": {
        "id": "JoXfTNZZ6qXm"
      },
      "outputs": [],
      "source": [
        "from scipy import stats\n",
        "import numpy as np\n",
        "import pandas as pd\n",
        "import csv\n",
        "import matplotlib.pyplot as plt"
      ]
    },
    {
      "cell_type": "markdown",
      "source": [
        "Question 1"
      ],
      "metadata": {
        "id": "m0K6Jv8P7aLy"
      }
    },
    {
      "cell_type": "code",
      "source": [
        "with open(\"winequality-red.csv\", 'r') as f:\n",
        "    XY = list(csv.reader(f, delimiter=\";\"))\n",
        "XY= np.array(XY[1:], dtype=np.float)\n",
        "XY"
      ],
      "metadata": {
        "colab": {
          "base_uri": "https://localhost:8080/"
        },
        "id": "_TSSz73F7Y4c",
        "outputId": "2a58280e-3d2c-4e7e-d30e-d06334dbbd32"
      },
      "execution_count": 4,
      "outputs": [
        {
          "output_type": "execute_result",
          "data": {
            "text/plain": [
              "array([[ 7.4  ,  0.7  ,  0.   , ...,  0.56 ,  9.4  ,  5.   ],\n",
              "       [ 7.8  ,  0.88 ,  0.   , ...,  0.68 ,  9.8  ,  5.   ],\n",
              "       [ 7.8  ,  0.76 ,  0.04 , ...,  0.65 ,  9.8  ,  5.   ],\n",
              "       ...,\n",
              "       [ 6.3  ,  0.51 ,  0.13 , ...,  0.75 , 11.   ,  6.   ],\n",
              "       [ 5.9  ,  0.645,  0.12 , ...,  0.71 , 10.2  ,  5.   ],\n",
              "       [ 6.   ,  0.31 ,  0.47 , ...,  0.66 , 11.   ,  6.   ]])"
            ]
          },
          "metadata": {},
          "execution_count": 4
        }
      ]
    },
    {
      "cell_type": "code",
      "source": [
        "XY.shape"
      ],
      "metadata": {
        "colab": {
          "base_uri": "https://localhost:8080/"
        },
        "id": "Mg7m16uf70UL",
        "outputId": "9710e8ff-20bf-4775-e947-be4a041655e1"
      },
      "execution_count": 5,
      "outputs": [
        {
          "output_type": "execute_result",
          "data": {
            "text/plain": [
              "(1599, 12)"
            ]
          },
          "metadata": {},
          "execution_count": 5
        }
      ]
    },
    {
      "cell_type": "code",
      "source": [
        "Y=XY[:,-1]\n",
        "print(Y)"
      ],
      "metadata": {
        "colab": {
          "base_uri": "https://localhost:8080/"
        },
        "id": "sQjPFom072hr",
        "outputId": "b0a61fbf-1332-40d2-8c5c-747bb86fa1ad"
      },
      "execution_count": 7,
      "outputs": [
        {
          "output_type": "stream",
          "name": "stdout",
          "text": [
            "[5. 5. 5. ... 6. 5. 6.]\n"
          ]
        }
      ]
    },
    {
      "cell_type": "code",
      "source": [
        "Y.shape"
      ],
      "metadata": {
        "colab": {
          "base_uri": "https://localhost:8080/"
        },
        "id": "46Po3NEA8CAz",
        "outputId": "356124a9-ade2-49a4-d63f-33b0d85ebdb5"
      },
      "execution_count": 8,
      "outputs": [
        {
          "output_type": "execute_result",
          "data": {
            "text/plain": [
              "(1599,)"
            ]
          },
          "metadata": {},
          "execution_count": 8
        }
      ]
    },
    {
      "cell_type": "code",
      "source": [
        "X=XY[:,:-1]"
      ],
      "metadata": {
        "id": "w4xJvXUe8FRa"
      },
      "execution_count": 9,
      "outputs": []
    },
    {
      "cell_type": "code",
      "source": [
        "print(X)"
      ],
      "metadata": {
        "colab": {
          "base_uri": "https://localhost:8080/"
        },
        "id": "-sAVUphC8IQG",
        "outputId": "04d094f2-79bd-4a13-bbd8-9f8ebbcd66a2"
      },
      "execution_count": 10,
      "outputs": [
        {
          "output_type": "stream",
          "name": "stdout",
          "text": [
            "[[ 7.4    0.7    0.    ...  3.51   0.56   9.4  ]\n",
            " [ 7.8    0.88   0.    ...  3.2    0.68   9.8  ]\n",
            " [ 7.8    0.76   0.04  ...  3.26   0.65   9.8  ]\n",
            " ...\n",
            " [ 6.3    0.51   0.13  ...  3.42   0.75  11.   ]\n",
            " [ 5.9    0.645  0.12  ...  3.57   0.71  10.2  ]\n",
            " [ 6.     0.31   0.47  ...  3.39   0.66  11.   ]]\n"
          ]
        }
      ]
    },
    {
      "cell_type": "code",
      "source": [
        "X.shape"
      ],
      "metadata": {
        "colab": {
          "base_uri": "https://localhost:8080/"
        },
        "id": "SrAePUny8KG9",
        "outputId": "1135d4bd-3c5d-4b1a-9c5f-4fc1233e2bc6"
      },
      "execution_count": 11,
      "outputs": [
        {
          "output_type": "execute_result",
          "data": {
            "text/plain": [
              "(1599, 11)"
            ]
          },
          "metadata": {},
          "execution_count": 11
        }
      ]
    },
    {
      "cell_type": "markdown",
      "source": [
        "Shuffle and take the Transpose of matrix X"
      ],
      "metadata": {
        "id": "D0zy-w1B8LYC"
      }
    },
    {
      "cell_type": "code",
      "source": [
        "np.random.shuffle(X)\n",
        "X"
      ],
      "metadata": {
        "colab": {
          "base_uri": "https://localhost:8080/"
        },
        "id": "FeYJZ3DM8NNz",
        "outputId": "bbcfce74-c825-44fa-c163-44637c80f05c"
      },
      "execution_count": 12,
      "outputs": [
        {
          "output_type": "execute_result",
          "data": {
            "text/plain": [
              "array([[10.6  ,  1.025,  0.43 , ...,  3.06 ,  0.57 , 10.1  ],\n",
              "       [ 8.   ,  0.81 ,  0.25 , ...,  3.19 ,  0.42 ,  9.2  ],\n",
              "       [ 7.3  ,  0.91 ,  0.1  , ...,  3.35 ,  0.56 ,  9.2  ],\n",
              "       ...,\n",
              "       [ 8.4  ,  0.56 ,  0.04 , ...,  3.22 ,  0.44 ,  9.6  ],\n",
              "       [ 9.9  ,  0.35 ,  0.38 , ...,  3.26 ,  0.82 , 10.6  ],\n",
              "       [ 6.9  ,  0.52 ,  0.25 , ...,  3.46 ,  0.5  , 11.   ]])"
            ]
          },
          "metadata": {},
          "execution_count": 12
        }
      ]
    },
    {
      "cell_type": "code",
      "source": [
        "X.transpose()"
      ],
      "metadata": {
        "colab": {
          "base_uri": "https://localhost:8080/"
        },
        "id": "rpA68G9d8SLZ",
        "outputId": "07fcc1c1-1a37-43c0-d5ec-f359d64a9467"
      },
      "execution_count": 13,
      "outputs": [
        {
          "output_type": "execute_result",
          "data": {
            "text/plain": [
              "array([[10.6  ,  8.   ,  7.3  , ...,  8.4  ,  9.9  ,  6.9  ],\n",
              "       [ 1.025,  0.81 ,  0.91 , ...,  0.56 ,  0.35 ,  0.52 ],\n",
              "       [ 0.43 ,  0.25 ,  0.1  , ...,  0.04 ,  0.38 ,  0.25 ],\n",
              "       ...,\n",
              "       [ 3.06 ,  3.19 ,  3.35 , ...,  3.22 ,  3.26 ,  3.46 ],\n",
              "       [ 0.57 ,  0.42 ,  0.56 , ...,  0.44 ,  0.82 ,  0.5  ],\n",
              "       [10.1  ,  9.2  ,  9.2  , ...,  9.6  , 10.6  , 11.   ]])"
            ]
          },
          "metadata": {},
          "execution_count": 13
        }
      ]
    },
    {
      "cell_type": "code",
      "source": [
        "X.shape"
      ],
      "metadata": {
        "colab": {
          "base_uri": "https://localhost:8080/"
        },
        "id": "5bGmge6M8Tuu",
        "outputId": "b68c21b9-5835-4643-a3a9-514df0bb9817"
      },
      "execution_count": 14,
      "outputs": [
        {
          "output_type": "execute_result",
          "data": {
            "text/plain": [
              "(1599, 11)"
            ]
          },
          "metadata": {},
          "execution_count": 14
        }
      ]
    },
    {
      "cell_type": "code",
      "source": [
        "X.min(axis=1)"
      ],
      "metadata": {
        "colab": {
          "base_uri": "https://localhost:8080/"
        },
        "id": "9DdTuITK8h4-",
        "outputId": "fdb2142a-ab08-4681-cc8c-c320b613510e"
      },
      "execution_count": 15,
      "outputs": [
        {
          "output_type": "execute_result",
          "data": {
            "text/plain": [
              "array([0.08 , 0.076, 0.074, ..., 0.04 , 0.058, 0.081])"
            ]
          },
          "metadata": {},
          "execution_count": 15
        }
      ]
    },
    {
      "cell_type": "code",
      "source": [
        "X.max(axis=1)"
      ],
      "metadata": {
        "colab": {
          "base_uri": "https://localhost:8080/"
        },
        "id": "w5Qxt_NO8k88",
        "outputId": "32a02ef7-94d3-4e26-ccd4-621d7775eb3c"
      },
      "execution_count": 16,
      "outputs": [
        {
          "output_type": "execute_result",
          "data": {
            "text/plain": [
              "array([84., 85., 56., ..., 22., 47., 37.])"
            ]
          },
          "metadata": {},
          "execution_count": 16
        }
      ]
    },
    {
      "cell_type": "code",
      "source": [
        "X.max(axis=0)"
      ],
      "metadata": {
        "colab": {
          "base_uri": "https://localhost:8080/"
        },
        "id": "BvXHaK9u8n8l",
        "outputId": "a4645969-dfe9-486c-8180-47e05eba9306"
      },
      "execution_count": 17,
      "outputs": [
        {
          "output_type": "execute_result",
          "data": {
            "text/plain": [
              "array([ 15.9    ,   1.58   ,   1.     ,  15.5    ,   0.611  ,  72.     ,\n",
              "       289.     ,   1.00369,   4.01   ,   2.     ,  14.9    ])"
            ]
          },
          "metadata": {},
          "execution_count": 17
        }
      ]
    },
    {
      "cell_type": "code",
      "source": [
        "X.min(axis=0)"
      ],
      "metadata": {
        "colab": {
          "base_uri": "https://localhost:8080/"
        },
        "id": "5ZzfGTgy8pjC",
        "outputId": "17ace8ea-a823-41ce-bb8a-dbf24b82e30b"
      },
      "execution_count": 18,
      "outputs": [
        {
          "output_type": "execute_result",
          "data": {
            "text/plain": [
              "array([4.6    , 0.12   , 0.     , 0.9    , 0.012  , 1.     , 6.     ,\n",
              "       0.99007, 2.74   , 0.33   , 8.4    ])"
            ]
          },
          "metadata": {},
          "execution_count": 18
        }
      ]
    },
    {
      "cell_type": "markdown",
      "source": [
        "Print the number of values which are equal to 5 in Y."
      ],
      "metadata": {
        "id": "WvxT3Wz38rXa"
      }
    },
    {
      "cell_type": "code",
      "source": [
        "np.count_nonzero(Y==5)"
      ],
      "metadata": {
        "colab": {
          "base_uri": "https://localhost:8080/"
        },
        "id": "hdv27Yhh8tQD",
        "outputId": "daf6cc39-1463-4c13-f1cc-e7024990e744"
      },
      "execution_count": 19,
      "outputs": [
        {
          "output_type": "execute_result",
          "data": {
            "text/plain": [
              "681"
            ]
          },
          "metadata": {},
          "execution_count": 19
        }
      ]
    },
    {
      "cell_type": "markdown",
      "source": [
        "Question 2"
      ],
      "metadata": {
        "id": "edn3994j8v8C"
      }
    },
    {
      "cell_type": "markdown",
      "source": [
        "Mean"
      ],
      "metadata": {
        "id": "Xvi8a-XD8yYr"
      }
    },
    {
      "cell_type": "code",
      "source": [
        "coloumn_means=X.mean(axis=0)\n",
        "print(coloumn_means)"
      ],
      "metadata": {
        "colab": {
          "base_uri": "https://localhost:8080/"
        },
        "id": "BrQf3-a18w9P",
        "outputId": "e4fb4bfd-2f9d-475d-c595-6905154fd121"
      },
      "execution_count": 21,
      "outputs": [
        {
          "output_type": "stream",
          "name": "stdout",
          "text": [
            "[ 8.31963727  0.52782051  0.27097561  2.5388055   0.08746654 15.87492183\n",
            " 46.46779237  0.99674668  3.3111132   0.65814884 10.42298311]\n"
          ]
        }
      ]
    },
    {
      "cell_type": "markdown",
      "source": [
        "Mode"
      ],
      "metadata": {
        "id": "3uhaWWQz8-Gx"
      }
    },
    {
      "cell_type": "code",
      "source": [
        "modenew = stats.mode(Y)\n",
        "print(modenew)"
      ],
      "metadata": {
        "colab": {
          "base_uri": "https://localhost:8080/"
        },
        "id": "JgwsaiR58x2D",
        "outputId": "148406a3-3517-47d8-affe-eba4a5c426a1"
      },
      "execution_count": 22,
      "outputs": [
        {
          "output_type": "stream",
          "name": "stdout",
          "text": [
            "ModeResult(mode=array([5.]), count=array([681]))\n"
          ]
        }
      ]
    },
    {
      "cell_type": "markdown",
      "source": [
        "Standard Deviation"
      ],
      "metadata": {
        "id": "k2a742Gr9FsE"
      }
    },
    {
      "cell_type": "code",
      "source": [
        "np.std(X,axis=None)"
      ],
      "metadata": {
        "colab": {
          "base_uri": "https://localhost:8080/"
        },
        "id": "6TU0iqlj9HgA",
        "outputId": "80cdd6e8-8de1-41d0-f251-6530e7647624"
      },
      "execution_count": 23,
      "outputs": [
        {
          "output_type": "execute_result",
          "data": {
            "text/plain": [
              "16.726533979432844"
            ]
          },
          "metadata": {},
          "execution_count": 23
        }
      ]
    },
    {
      "cell_type": "markdown",
      "source": [
        "Question 3"
      ],
      "metadata": {
        "id": "sMmuCB7j9LpS"
      }
    },
    {
      "cell_type": "code",
      "source": [
        "plt.hist(X,bins=5,alpha=0.7,histtype=\"bar\",ec='grey')\n",
        "plt.show()"
      ],
      "metadata": {
        "colab": {
          "base_uri": "https://localhost:8080/",
          "height": 265
        },
        "id": "hUqEU-HN9Neb",
        "outputId": "fd237df1-72aa-49c8-c9eb-49c47892749f"
      },
      "execution_count": 24,
      "outputs": [
        {
          "output_type": "display_data",
          "data": {
            "image/png": "[encoded data removed]",
            "text/plain": [
              "<Figure size 432x288 with 1 Axes>"
            ]
          },
          "metadata": {
            "needs_background": "light"
          }
        }
      ]
    },
    {
      "cell_type": "code",
      "source": [
        "plt.hist(Y,bins=15,alpha=0.7,histtype=\"bar\",ec='black')\n",
        "plt.show()"
      ],
      "metadata": {
        "colab": {
          "base_uri": "https://localhost:8080/",
          "height": 265
        },
        "id": "tNXBSsBl9Wqv",
        "outputId": "5f9111d4-d477-4932-f179-e861fbb5f29c"
      },
      "execution_count": 25,
      "outputs": [
        {
          "output_type": "display_data",
          "data": {
            "image/png": "[encoded data removed]",
            "text/plain": [
              "<Figure size 432x288 with 1 Axes>"
            ]
          },
          "metadata": {
            "needs_background": "light"
          }
        }
      ]
    }
  ]
}