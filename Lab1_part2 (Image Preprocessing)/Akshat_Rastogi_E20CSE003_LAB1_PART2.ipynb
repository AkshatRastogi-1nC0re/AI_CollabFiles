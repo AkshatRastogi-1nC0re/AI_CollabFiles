{
 "cells": [
  {
   "cell_type": "code",
   "execution_count": 1,
   "metadata": {},
   "outputs": [
    {
     "name": "stderr",
     "output_type": "stream",
     "text": [
      "In C:\\Users\\Akshat\\anaconda3\\lib\\site-packages\\matplotlib\\mpl-data\\stylelib\\_classic_test.mplstyle: \n",
      "The text.latex.preview rcparam was deprecated in Matplotlib 3.3 and will be removed two minor releases later.\n",
      "In C:\\Users\\Akshat\\anaconda3\\lib\\site-packages\\matplotlib\\mpl-data\\stylelib\\_classic_test.mplstyle: \n",
      "The mathtext.fallback_to_cm rcparam was deprecated in Matplotlib 3.3 and will be removed two minor releases later.\n",
      "In C:\\Users\\Akshat\\anaconda3\\lib\\site-packages\\matplotlib\\mpl-data\\stylelib\\_classic_test.mplstyle: Support for setting the 'mathtext.fallback_to_cm' rcParam is deprecated since 3.3 and will be removed two minor releases later; use 'mathtext.fallback : 'cm' instead.\n",
      "In C:\\Users\\Akshat\\anaconda3\\lib\\site-packages\\matplotlib\\mpl-data\\stylelib\\_classic_test.mplstyle: \n",
      "The validate_bool_maybe_none function was deprecated in Matplotlib 3.3 and will be removed two minor releases later.\n",
      "In C:\\Users\\Akshat\\anaconda3\\lib\\site-packages\\matplotlib\\mpl-data\\stylelib\\_classic_test.mplstyle: \n",
      "The savefig.jpeg_quality rcparam was deprecated in Matplotlib 3.3 and will be removed two minor releases later.\n",
      "In C:\\Users\\Akshat\\anaconda3\\lib\\site-packages\\matplotlib\\mpl-data\\stylelib\\_classic_test.mplstyle: \n",
      "The keymap.all_axes rcparam was deprecated in Matplotlib 3.3 and will be removed two minor releases later.\n",
      "In C:\\Users\\Akshat\\anaconda3\\lib\\site-packages\\matplotlib\\mpl-data\\stylelib\\_classic_test.mplstyle: \n",
      "The animation.avconv_path rcparam was deprecated in Matplotlib 3.3 and will be removed two minor releases later.\n",
      "In C:\\Users\\Akshat\\anaconda3\\lib\\site-packages\\matplotlib\\mpl-data\\stylelib\\_classic_test.mplstyle: \n",
      "The animation.avconv_args rcparam was deprecated in Matplotlib 3.3 and will be removed two minor releases later.\n"
     ]
    }
   ],
   "source": [
    "from scipy import stats\n",
    "import numpy as np\n",
    "import pandas as pd\n",
    "import csv\n",
    "import matplotlib.pyplot as plt\n",
    "import os"
   ]
  },
  {
   "cell_type": "code",
   "execution_count": 8,
   "metadata": {},
   "outputs": [],
   "source": [
    "import cv2"
   ]
  },
  {
   "cell_type": "code",
   "execution_count": 27,
   "metadata": {},
   "outputs": [],
   "source": [
    "image_path = \"halua\"\n",
    "\n",
    "def loadImages1(path):\n",
    "    image_files = sorted([os.path.join(path, 'tv', file)\n",
    "                          for file in os.listdir(path + \"/tv\")])\n",
    "    return image_files\n",
    "\n",
    "def loadImages2(path):\n",
    "    image_files = sorted([os.path.join(path, 'fridge', file)\n",
    "                          for file in os.listdir(path + \"/fridge\")])\n",
    "    return image_files"
   ]
  },
  {
   "cell_type": "code",
   "execution_count": 29,
   "metadata": {},
   "outputs": [],
   "source": [
    "def processing(data):\n",
    "    img = [cv2.imread(i, cv2.IMREAD_UNCHANGED) for i in data]\n",
    "    try:\n",
    "        print('Original size',img[0].shape)\n",
    "    except AttributeError:\n",
    "        print(\"shape not found\")\n",
    "        \n",
    "    height = 100\n",
    "    width = 100\n",
    "    dim = (width, height)\n",
    "    res_img = []\n",
    "    for i in range(len(img)):\n",
    "        res = cv2.resize(img[i], dim, interpolation=cv2.INTER_LINEAR)\n",
    "        res_img.append(res)\n",
    "\n",
    "    try:\n",
    "        print('RESIZED', res_img[1].shape)\n",
    "    except AttributeError:\n",
    "        print(\"shape not found\")\n",
    "    \n",
    "    \n",
    "    # Visualizing one of the images in the array\n",
    "    original = res_img[1]\n",
    "    \n",
    "    main_array = []\n",
    "    \n",
    "    grey_array = []\n",
    "    \n",
    "    bina_array = []\n",
    "    \n",
    "    for i in range(0, len(res_img)):\n",
    "        image = res_img[i]\n",
    "        main_array.append(image)\n",
    "        gray = cv2.cvtColor(image, cv2.COLOR_RGB2GRAY)\n",
    "        grey_array.append(gray)\n",
    "        ret, bin_img = cv2.threshold(gray, 0, 255, cv2.THRESH_BINARY + cv2.THRESH_OTSU)\n",
    "        bina_array.append(bin_img)\n",
    "    \n",
    "    numpy_main_array = np.array(main_array)\n",
    "    numpy_grey_array = np.array(grey_array)\n",
    "    numpy_bina_array = np.array(bina_array)\n",
    "    \n",
    "    print(\"Numpy Array : \" ,numpy_main_array.shape)\n",
    "    print(\"Gray Array : \" ,numpy_grey_array.shape)\n",
    "    print(\"Binary Array : \" ,numpy_bina_array.shape)\n"
   ]
  },
  {
   "cell_type": "code",
   "execution_count": 30,
   "metadata": {},
   "outputs": [
    {
     "name": "stdout",
     "output_type": "stream",
     "text": [
      "Original size (213, 312, 3)\n",
      "RESIZED (100, 100, 3)\n",
      "Numpy Array :  (24, 100, 100, 3)\n",
      "Gray Array :  (24, 100, 100)\n",
      "Binary Array :  (24, 100, 100)\n"
     ]
    }
   ],
   "source": [
    "dataset = loadImages(image_path)\n",
    "processing(dataset)"
   ]
  },
  {
   "cell_type": "code",
   "execution_count": 31,
   "metadata": {},
   "outputs": [
    {
     "name": "stdout",
     "output_type": "stream",
     "text": [
      "Original size (1500, 607, 3)\n",
      "RESIZED (100, 100, 3)\n",
      "Numpy Array :  (21, 100, 100, 3)\n",
      "Gray Array :  (21, 100, 100)\n",
      "Binary Array :  (21, 100, 100)\n"
     ]
    }
   ],
   "source": [
    "dataset2 = loadImages2(image_path)\n",
    "processing(dataset2)"
   ]
  },
  {
   "cell_type": "code",
   "execution_count": null,
   "metadata": {},
   "outputs": [],
   "source": []
  }
 ],
 "metadata": {
  "kernelspec": {
   "display_name": "Python 3",
   "language": "python",
   "name": "python3"
  },
  "language_info": {
   "codemirror_mode": {
    "name": "ipython",
    "version": 3
   },
   "file_extension": ".py",
   "mimetype": "text/x-python",
   "name": "python",
   "nbconvert_exporter": "python",
   "pygments_lexer": "ipython3",
   "version": "3.8.3"
  }
 },
 "nbformat": 4,
 "nbformat_minor": 4
}
